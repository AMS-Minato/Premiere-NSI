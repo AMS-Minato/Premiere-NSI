{
 "cells": [
  {
   "cell_type": "markdown",
   "metadata": {},
   "source": [
    "## <div align = right> 2020-2021 </div>\n",
    "### <center> Premiere NSI - Les structures algorithmiques </center>\n",
    "### <center> Activité 2: Les Boucles</center>\n",
    "---\n",
    "### Introduction\n",
    "Nous avons vu qu'un programme informatique n'était qu'une suite d'instructions élémentaires amenées à réaliser une tâche plus complexe. L'organisation de ces instructions s'appelle l'**algorithmie**. Nous avons déjà abordé deux notions permettant cette organisation: **Les fonctions** et **Les conditions**.\n",
    "\n",
    "Dans l'exemple ci-dessous, le code lance un jeu très basique où le joueur doit trouver un nombre entre 1 et 99 en un minimum d'essais."
   ]
  },
  {
   "cell_type": "code",
   "execution_count": null,
   "metadata": {
    "scrolled": false
   },
   "outputs": [],
   "source": [
    "from random import randint\n",
    "\n",
    "mystere = randint(1,99)\n",
    "proposition, essai = 0, 0\n",
    "print(\"Il s'agit de trouver un nombre entre 1 et 99\")\n",
    "\n",
    "while proposition != mystere:\n",
    "    essai += 1\n",
    "    proposition = int(input(f\"Essai n°{essai} Proposition: \"))\n",
    "    if proposition < mystere:\n",
    "        print(\"Trop petit\\n\")\n",
    "    if proposition > mystere:\n",
    "        print(\"Trop grand\\n\")\n",
    "print(f\"Gagné en {essai} essais\")"
   ]
  },
  {
   "cell_type": "markdown",
   "metadata": {},
   "source": [
    "**Tester plusieurs exécutions et observer le fonctionnement.**\n",
    "\n",
    "- Comment le programme sait qu'il doit coninuer ou s'arrêter?\n",
    "---\n",
    "- Comment traduire en langage *humain* la ligne `while proposition != mystere`?\n",
    "---\n",
    "- Le programme sait-il à l'avance le nombre de boucles qu'il va exécuter?\n",
    "---\n",
    "### <center>  LA BOUCLE CONDITIONNELLE </center>\n",
    "#### <center>  TANT QUE `<condition>` FAIRE `<action>`  </center>\n",
    "---\n",
    "    \n",
    "Pour rappel, la `<condition>` est une question à laquelle le programme doit trouver une réponse entre : `True` (*vrai*) ou `False` (*faux*).\n",
    "    \n",
    "En python cette syntaxe s'appuie sur le mots-clé `WHILE`. Nous retrouvons la traduction littérale de ***TANT QUE***. Le mot-clé correspondant à ***FAIRE*** (`do`) existe dans certains langages mais pas en `python`. Voir le modèle `python` ci-dessous:\n",
    "    \n",
    "```python\n",
    "while <condition>:\n",
    "    # Bloc d'instructions pour <condition> = True\n",
    "    ...\n",
    "\n",
    "# Suite d'instructions dès que <condition> = False\n",
    "    \n",
    "```\n",
    "    \n",
    "De la même manière que lors de la déclaration de fonctions et la structure `if`, un bloc d'instructions se délimite par l'indentation en `python`. L'indentation équivaut à 4 espaces et se démarre après une instruction conclue par deux doints `:`\n",
    "  \n",
    " - **A partir du code proposé précédemment, quelle situation pourrrait amener le programme à  tourner en boucle à l'infini?**\n",
    "---   \n",
    "- **A partir du code proposé précédemment, quelle condition doit être formulée limiter le nombre d'essais à 10?** \n",
    "---\n",
    "- **Programmez-le !!**"
   ]
  },
  {
   "cell_type": "code",
   "execution_count": null,
   "metadata": {
    "scrolled": true
   },
   "outputs": [],
   "source": [
    "from random import randint\n",
    "\n",
    "mystere = randint(1,99)\n",
    "proposition, essai = 0, 0\n",
    "print(\"Il s'agit de trouver un nombre entre 1 et 99\")\n"
   ]
  },
  {
   "cell_type": "markdown",
   "metadata": {},
   "source": [
    "**Cette structure présente un risque de boucle infinie non-voulue.** (Dans certains cas, cette situation peut être voulue comme dans le cas d'une boucle d'attente d'un mode veille ou d'un système à déclenchement automatique).  \n",
    "Il faut donc s'assurer que la `<condition>` contient une limite **invariante** et une entité **variable** qui peut se rapprocher de la limite au fil des boucles\n"
   ]
  },
  {
   "cell_type": "markdown",
   "metadata": {},
   "source": [
    "---\n",
    "### <center>  Exercices</center>\n",
    "#### 1.  Ecrire une fonction qui affiche un message une fois la durée demandée en secondes écoulées"
   ]
  },
  {
   "cell_type": "code",
   "execution_count": null,
   "metadata": {},
   "outputs": [],
   "source": [
    "from time import time\n",
    "\n",
    "def timer(duree):\n",
    "    # à compléter\n",
    "    t_init = time()\n",
    "    t = 0\n",
    "    \n",
    "\n",
    "timer(10)"
   ]
  },
  {
   "cell_type": "markdown",
   "metadata": {},
   "source": [
    "---\n",
    "#### 2.  Ecrire une fonction qui affiche un compte à rebours seconde par seconde une fois la durée demandée en secondes écoulées"
   ]
  },
  {
   "cell_type": "code",
   "execution_count": null,
   "metadata": {},
   "outputs": [],
   "source": [
    "from time import time\n",
    "\n",
    "def timer(duree):\n",
    "    # à compléter\n",
    "    t_init = time()\n",
    "    \n",
    "\n",
    "timer(10)"
   ]
  },
  {
   "cell_type": "markdown",
   "metadata": {},
   "source": [
    "---\n",
    "#### 3.  Ecrire une fonction qui permet à 2 joueurs de faire une partie du jeu des allumettes (il ne faut pas prendre la dernière allumette)"
   ]
  },
  {
   "cell_type": "code",
   "execution_count": null,
   "metadata": {},
   "outputs": [],
   "source": [
    "def allumettes():\n",
    "    nb_allumettes = 30\n",
    "    joueur = True  # True: J1 / False: J2\n",
    "    print(\"|\" * nb_allumettes)\n",
    "    \n",
    "    \n",
    "allumettes()"
   ]
  },
  {
   "cell_type": "markdown",
   "metadata": {},
   "source": [
    "---\n",
    "### <center>  Pour aller plus loin</center>\n",
    "Certaines variables comme les chaînes de caractères peuvent être appelées dans leur intégralité par leur nom. Il existe aussi un moyen d'accééder qu'à une partie des éléments avec la notion d'indice. Les caractères sont tous repérés par un indice différent dans la chaîne. \n",
    "\n",
    "Ainsi, si chaine = `\"Hello World\"`, alors `chaine[0] renvoie \"H\"`"
   ]
  },
  {
   "cell_type": "markdown",
   "metadata": {},
   "source": [
    "#### 4.  A partir du début de code ci-dessous, imbriquer deux structures de boucle pour parcourir une grille de bataille navale et afficher chaque case par ses coordonnées lettre / chiffre:\n",
    "\n",
    "![grille](https://s2.qwant.com/thumbr/0x380/e/9/b1e8959f78181d840b8a135b23bc1989ea7f0e00649e46f996ff27f0d0f4bf/1200px-Battleship_game_board.svg.png?u=https%3A%2F%2Fupload.wikimedia.org%2Fwikipedia%2Fcommons%2Fthumb%2F6%2F65%2FBattleship_game_board.svg%2F1200px-Battleship_game_board.svg.png&q=0&b=1&p=0&a=1)"
   ]
  },
  {
   "cell_type": "code",
   "execution_count": null,
   "metadata": {},
   "outputs": [],
   "source": [
    "def bataille_navale():\n",
    "    # A 1\n",
    "    # A 2\n",
    "    # A 3\n",
    "    # ...\n",
    "    # B 1\n",
    "    # B 2\n",
    "    # ...\n",
    "    # J 9\n",
    "    # J 10\n",
    "    \n",
    "    lettres = \"ABCDEFGHIJ\"\n",
    "    colonne = 0\n",
    "    \n",
    "        \n",
    "bataille_navale()"
   ]
  }
 ],
 "metadata": {
  "kernelspec": {
   "display_name": "Python 3",
   "language": "python",
   "name": "python3"
  },
  "language_info": {
   "codemirror_mode": {
    "name": "ipython",
    "version": 3
   },
   "file_extension": ".py",
   "mimetype": "text/x-python",
   "name": "python",
   "nbconvert_exporter": "python",
   "pygments_lexer": "ipython3",
   "version": "3.8.4"
  }
 },
 "nbformat": 4,
 "nbformat_minor": 4
}
