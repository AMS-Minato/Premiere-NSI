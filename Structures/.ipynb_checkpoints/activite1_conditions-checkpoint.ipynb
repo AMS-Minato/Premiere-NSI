{
 "cells": [
  {
   "cell_type": "markdown",
   "metadata": {},
   "source": [
    "## <div align = right> 2020-2021 </div>\n",
    "### <center> Premiere NSI - Les structures algorithmiques </center>\n",
    "### <center> Activité 1: Les Conditions</center>\n",
    "---\n",
    "### Introduction\n",
    "Nous avons vu qu'un programme informatique n'était qu'une suite d'instructions élémentaires amenées à réaliser une tâche plus complexe. L'organisation de ces instructions s'appelle l'**algorithmie**. Nous avons déjà abordé une première notion permettant cette organisation: **Les fonctions**.\n",
    "\n",
    "Dans l'exemple ci-dessous, la fonction `age()` évalue l'âge d'une personne à la lecture de sa date de naissance (la bibliothèque `datetime` importée en première ligne permet la lacture de la date du jour)."
   ]
  },
  {
   "cell_type": "code",
   "execution_count": null,
   "metadata": {},
   "outputs": [],
   "source": [
    "import datetime\n",
    "\n",
    "today = datetime.datetime.now()\n",
    "birth = input(\"saisir votre date de naissance (format jj/mm/aaaa)\")\n",
    "jj, mm, aaaa = int(birth[:2]), int(birth[3:5]), int(birth[6:])\n",
    "\n",
    "def age():\n",
    "    age_y= today.year - aaaa\n",
    "    print(\"Vous avez\",age_y,\"ans.\")  \n",
    "    \n",
    "age()"
   ]
  },
  {
   "cell_type": "markdown",
   "metadata": {},
   "source": [
    "Si votre anniversaire est déjà survenu cette année, alors le résultat semble satisfaisant mais que se passe-t-il si votre anniversaire n'est pas encore passé? \n",
    "\n",
    "Il faudrait pouvoir prendre en compte le fait que cette situation présente deux issues donc deux résultats."
   ]
  },
  {
   "cell_type": "code",
   "execution_count": null,
   "metadata": {
    "scrolled": false
   },
   "outputs": [],
   "source": [
    "print(today.month - mm)"
   ]
  },
  {
   "cell_type": "markdown",
   "metadata": {},
   "source": [
    "**Tester plusieurs situations et observer l'évolution de la commande** `today.month - mm`**. **\n",
    "\n",
    "- Quel calcul réalise cette instruction?\n",
    "---\n",
    "- Comment interprêter ce calcul?\n",
    "\n",
    "---\n",
    "### <center>  LA CONDITION </center>\n",
    "#### <center>  SI `<condition>` ALORS `<action>` SINON `<réaction>` </center>\n",
    "---\n",
    "    \n",
    "La `<condition>` est une question à laquelle le programme doit trouver une réponse entre : `True` (*vrai*) ou `False` (*faux*).\n",
    "    \n",
    "En python cette syntaxe s'appuie sur les mots-clés `if` et `else`. Nous retrouvons les traductions littérales de ***SI***  et ***SINON***. Le mot-clé correspondant à ***ALORS*** (`then`) existe dans certains langages mais pas en `python`. Voir le modèle `python` ci-dessous:\n",
    "    \n",
    "```python\n",
    "if <condition>:\n",
    "    # Bloc d'instructions pour <condition> = True\n",
    "    ...\n",
    "else:\n",
    "    # Bloc d'instructions pour <condition> = False\n",
    "    ...\n",
    "    \n",
    "```\n",
    "    \n",
    "De la même manière que lors de la déclaration de fonctions, un bloc d'instructions se délimite par l'indentation en `python`. L'indentation équivaut à 4 espaces et se démarre après une instruction conclue par deux doints `:`\n",
    "  \n",
    "    \n",
    "- **A partir de la fonction `age()` proposée précédemment, quelle condition doit être formulée pour résoudre le problème soulevé?** \n",
    "---\n",
    "- **Quelle sera l'action suite à une réponse `True`?**\n",
    "---\n",
    "- **Quelle sera la réaction suite à une réponse `False`?**\n",
    "---\n",
    "- **Programmez-le !!**"
   ]
  },
  {
   "cell_type": "code",
   "execution_count": null,
   "metadata": {},
   "outputs": [],
   "source": [
    "import datetime\n",
    "\n",
    "def age(birth):\n",
    "    today = datetime.datetime.now()\n",
    "    jj, mm, aaaa = int(birth[:2]), int(birth[3:5]), int(birth[6:])\n",
    "\n",
    "    # A compléter\n",
    "    \n",
    "    return \n",
    "    \n",
    "naissance = input(\"saisir votre date de naissance (format jj/mm/aaaa)\")    \n",
    "age(naissance)"
   ]
  },
  {
   "cell_type": "markdown",
   "metadata": {},
   "source": [
    "- **Ajouter un message précisant si la personne est majeure ou mineure**"
   ]
  },
  {
   "cell_type": "code",
   "execution_count": null,
   "metadata": {},
   "outputs": [],
   "source": [
    "import datetime\n",
    "\n",
    "def majorite(date_naissance):\n",
    "    # à compléter\n",
    "    # majorite(\"07/07/1984\") = True\n",
    "    # majorite(\"12/12/2012\") = False\n",
    "    \n",
    "    return "
   ]
  },
  {
   "cell_type": "markdown",
   "metadata": {},
   "source": [
    "\n",
    "---\n",
    "### <center>  Les Opérateurs logiques</center>\n",
    "#### <center>  `and` `or` et `not`</center>\n",
    "### <center>  Les Opérateurs arithmétiques</center>\n",
    "#### <center>  `< <= > >= == !=`</center>\n",
    "---\n",
    "    \n",
    "La `<condition>` peut combiner plusieurs paramètres avec les opérateurs logiques et arithmétiques... tant que la réponse se limite à `True` ou `False`."
   ]
  },
  {
   "cell_type": "markdown",
   "metadata": {},
   "source": [
    "- **Quelle condition permet de savoir si la personne fait partie des 18-25 ans ?**\n",
    "- **Quelle condition permet de savoir si la personne fête son anniversaire aujourd'hui?**"
   ]
  },
  {
   "cell_type": "markdown",
   "metadata": {},
   "source": [
    "---\n",
    "### <center>  Exercices</center>\n",
    "#### 1.  Ecrire une fonction qui teste un nombre est positif"
   ]
  },
  {
   "cell_type": "code",
   "execution_count": null,
   "metadata": {},
   "outputs": [],
   "source": [
    "def test_signe(nombre_entier):\n",
    "    # à compléter\n",
    "    # test_signe(42) = True\n",
    "    # test_signe(-1984) = False\n",
    "    # test_signe(0) = True\n",
    "    \n",
    "    return "
   ]
  },
  {
   "cell_type": "markdown",
   "metadata": {},
   "source": [
    "---\n",
    "#### 2.  Ecrire une fonction qui teste si un nombre est pair."
   ]
  },
  {
   "cell_type": "code",
   "execution_count": null,
   "metadata": {},
   "outputs": [],
   "source": [
    "def test_parite(nombre_entier):\n",
    "    # à compléter\n",
    "    # test_parite(42) = True\n",
    "    # test_parite(777) = False\n",
    "    \n",
    "    return "
   ]
  },
  {
   "cell_type": "markdown",
   "metadata": {},
   "source": [
    "---\n",
    "#### 3 . Ecrire une fonction qui teste si un triangle est rectangle ou non."
   ]
  },
  {
   "cell_type": "code",
   "execution_count": null,
   "metadata": {},
   "outputs": [],
   "source": [
    "from math import sqrt #sqrt(nombre) renvoie la racine carrée de ce nombre\n",
    "\n",
    "def test_triangle(hypothenuse, cote_1, cote_2):\n",
    "    # à compléter\n",
    "    # test_triangle(5,3,4) = True\n",
    "    # test_triangle(5,4,4) = False\n",
    "       \n",
    "    return "
   ]
  },
  {
   "cell_type": "markdown",
   "metadata": {},
   "source": [
    "---\n",
    "#### 4.  Ecrire une fonction qui teste si un triangle est rectangle sans spécifier quel côté est l'hypothénuse."
   ]
  },
  {
   "cell_type": "code",
   "execution_count": null,
   "metadata": {},
   "outputs": [],
   "source": [
    "from math import sqrt #sqrt(nombre) renvoie la racine carrée de ce nombre\n",
    "\n",
    "def test_triangle(cote_1, cote_2, cote_3):\n",
    "    # à compléter\n",
    "    # test_triangle(3,4,5) = True\n",
    "    # test_triangle(5,4,3) = True\n",
    "    \n",
    "    return"
   ]
  },
  {
   "cell_type": "markdown",
   "metadata": {},
   "source": [
    "---\n",
    "### <center>  Pour aller plus loin</center>\n"
   ]
  },
  {
   "cell_type": "markdown",
   "metadata": {},
   "source": [
    "#### 5. En vous inspirant de l'exercice 2, réaliser une fonction qui teste si une année est bissextile"
   ]
  },
  {
   "cell_type": "code",
   "execution_count": null,
   "metadata": {},
   "outputs": [],
   "source": [
    "def bissextile(annee):\n",
    "    # à compléter\n",
    "    # bissextile(2020) = True\n",
    "    # bissextile(2021) = False\n",
    "    \n",
    "    return "
   ]
  },
  {
   "cell_type": "markdown",
   "metadata": {},
   "source": [
    "#### <center>  Les choix multiples</center>\n",
    "---\n",
    "    \n",
    "La `<condition>` se décline en plusieurs cas avant d'envisager une `<réaction>`. Il faut simplement imaginer une condition alternative que l'on pourrait introduire par **OU ALORS SI...**\n",
    "Cela donnerait:\n",
    "\n",
    "#### <center>  SI `<condition_1>` ALORS `<action_1>` </center>\n",
    "#### <center>  OU ALORS SI `<condition_2>` ALORS `<action_2>` </center>    \n",
    "#### <center>  ... </center>\n",
    "####   <center>  SINON `<réaction>` </center>"
   ]
  },
  {
   "cell_type": "markdown",
   "metadata": {},
   "source": [
    "---\n",
    "#### 6. Reprendre l'exercice 1 et inclure la gestion de la valeur 0."
   ]
  },
  {
   "cell_type": "code",
   "execution_count": null,
   "metadata": {},
   "outputs": [],
   "source": [
    "def test_signe(nombre_entier):\n",
    "    # à compléter\n",
    "    # test_signe(42) = True\n",
    "    # test_signe(-1984) = False\n",
    "    # test_signe(0) = None\n",
    "    \n",
    "    return "
   ]
  },
  {
   "cell_type": "markdown",
   "metadata": {},
   "source": [
    "#### 7.  En combinant différents éléments vus précédemment, réaliser une fonction qui prend un mois et une année  en argument pour renvoyer le nombre de jours qui le composent."
   ]
  },
  {
   "cell_type": "code",
   "execution_count": null,
   "metadata": {},
   "outputs": [],
   "source": [
    "def nb_jour(mois,annee):\n",
    "    # à compléter\n",
    "    # nb_jour(02,2021) = 28\n",
    "    # nb_jour(02,2020) = 29\n",
    "    # nb_jour(03,2020) = 31\n",
    "    # nb_jour(04,2020) = 30\n",
    "    \n",
    "    return"
   ]
  },
  {
   "cell_type": "markdown",
   "metadata": {},
   "source": [
    "#### 8. Ecrire une fonction qui prend en argument une date et renvoie le nombre de jour(s) écoulé(s) depuis le début de l'année jusqu'à cette date. (Lorsqu'une condition est testée plusieurs fois de suite, une structure `while` pourrait ...)"
   ]
  },
  {
   "cell_type": "code",
   "execution_count": null,
   "metadata": {},
   "outputs": [],
   "source": []
  }
 ],
 "metadata": {
  "kernelspec": {
   "display_name": "Python 3",
   "language": "python",
   "name": "python3"
  },
  "language_info": {
   "codemirror_mode": {
    "name": "ipython",
    "version": 3
   },
   "file_extension": ".py",
   "mimetype": "text/x-python",
   "name": "python",
   "nbconvert_exporter": "python",
   "pygments_lexer": "ipython3",
   "version": "3.8.4"
  }
 },
 "nbformat": 4,
 "nbformat_minor": 4
}
