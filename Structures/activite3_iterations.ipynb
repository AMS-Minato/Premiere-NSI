{
 "cells": [
  {
   "cell_type": "markdown",
   "metadata": {},
   "source": [
    "## <div align = right> 2020-2021 </div>\n",
    "### <center> Premiere NSI - Les structures algorithmiques </center>\n",
    "### <center> Activité 3: Les Itérations</center>\n",
    "---\n",
    "### Introduction\n",
    "Nous avons vu qu'un programme informatique n'était qu'une suite d'instructions élémentaires amenées à réaliser une tâche plus complexe. L'organisation de ces instructions s'appelle l'**algorithmie**. Nous avons déjà abordé trois notions permettant cette organisation: **Les fonctions**, **les conditions** et **les boucles**.\n",
    "\n",
    "Dans l'exemple ci-dessous, le code énumère caractères d'une chaîne de caractères:"
   ]
  },
  {
   "cell_type": "code",
   "execution_count": null,
   "metadata": {
    "scrolled": false
   },
   "outputs": [],
   "source": [
    "compteur = 1\n",
    "chaine = \"Hello World!\"\n",
    "for caractere in chaine:\n",
    "    print(compteur,caractere)\n",
    "    compteur += 1"
   ]
  },
  {
   "cell_type": "markdown",
   "metadata": {},
   "source": [
    "**Tester une exécution et observer le fonctionnement.**\n",
    "\n",
    "- la variable `chaine` existe-t-elle avant le déclenchement de la structure?\n",
    "---\n",
    "- la variable `caractere` existe-t-elle avant le déclenchement de la structure? \n",
    "---\n",
    "- Le programme sait-il à l'avance le nombre de boucles qu'il va exécuter?\n",
    "---\n",
    "### <center>  LA BOUCLE ITERATIVE </center>\n",
    "#### <center>  POUR CHAQUE `<element>` DANS l'`<ensemble>` FAIRE `<action>`  </center>\n",
    "---\n",
    "    \n",
    "Nous notons immédiatement que la notion de `<condition>` a disparu. Elle est remplacée par un `<ensemble>` composé d'un de plusieurs `<elements>`. On appelle ces `<ensembles>` des **itérables**, c'est-à-dire que l'on peut distinguer et énumérer ses `<elements>`. La chaine de catactères `str` est un itérable, nous en découvrirons d'autres dans les prochains chapitres.\n",
    "    \n",
    "En python cette syntaxe s'appuie sur les mots-clés `for` et `in`. Nous retrouvons la traduction littérale de ***POUR*** et ***DANS***. Les mot-clés correspondant à ***CHAQUE*** (`each`) et ***FAIRE*** (`do`) existent dans certains langages mais pas en `python`. Voir le modèle `python` ci-dessous:\n",
    "    \n",
    "```python\n",
    "for <element> in <ensemble>:\n",
    "    # Bloc d'instructions où <element> devient devient successivement une des valeurs de <ensemble>\n",
    "    ...\n",
    "\n",
    "# Suite d'instructions dès que <element> a pris la dernière valeur de <ensemble>\n",
    "    \n",
    "```    \n",
    "De la même manière que lors de la déclaration de fonctions ou des structures `if` et `while`, un bloc d'instructions se délimite par l'indentation en `python`. L'indentation équivaut à 4 espaces et se démarre après une instruction conclue par deux doints `:`\n",
    "  \n",
    " - **A partir du code proposé précédemment, quelle situation pourrrait amener le programme à  tourner en boucle à l'infini?**\n",
    "---   \n",
    "- **A partir du code proposé précédemment, comment reconstituer la chaine en intercalant un espace entre chaque caractère?** \n",
    "---\n",
    "- **Programmez-le !!**"
   ]
  },
  {
   "cell_type": "code",
   "execution_count": null,
   "metadata": {},
   "outputs": [],
   "source": [
    "nouvelle_chaine = \"\"\n",
    "chaine = \"Hello World!\"\n",
    "# à compléter\n",
    "\n",
    "\n",
    "print(chaine)\n",
    "print(nouvelle_chaine)\n",
    "\n",
    "# Hello World!\n",
    "# H e l l o   W o r l d !"
   ]
  },
  {
   "cell_type": "markdown",
   "metadata": {},
   "source": [
    "---\n",
    "### <center>  Exercices</center>\n",
    "#### 1.  Ecrire une fonction qui rend anonyme une chaine de caractères (comme lors de la saisie d'un mot de passe)."
   ]
  },
  {
   "cell_type": "code",
   "execution_count": null,
   "metadata": {
    "scrolled": true
   },
   "outputs": [],
   "source": [
    "def cacher(texte):\n",
    "    texte_anonyme = \"\"\n",
    "    # à compléter\n",
    "    \n",
    "    \n",
    "    return texte_anonyme\n",
    "    \n",
    "print(cacher('password'))\n",
    "# ********"
   ]
  },
  {
   "cell_type": "markdown",
   "metadata": {},
   "source": [
    "---\n",
    "#### 2.  Ecrire une fonction qui supprime tous les espaces d'une chaîne."
   ]
  },
  {
   "cell_type": "code",
   "execution_count": null,
   "metadata": {},
   "outputs": [],
   "source": [
    "def sans_espace(texte):\n",
    "    texte_nettoye = \"\"\n",
    "    # à compléter\n",
    "    \n",
    "    \n",
    "    return texte_nettoye\n",
    "            \n",
    "sans_espace(\"Sans espace, l'envie de lire s'estompe\")\n",
    "# \"Sansespace,l'enviedelires'estompe\""
   ]
  },
  {
   "cell_type": "markdown",
   "metadata": {},
   "source": [
    "---\n",
    "#### 3.  Ecrire une fonction qui remplace tous les caractères accentués d'une chaîne par le caractère non-accentué correspondant."
   ]
  },
  {
   "cell_type": "code",
   "execution_count": null,
   "metadata": {
    "scrolled": true
   },
   "outputs": [],
   "source": [
    "def sans_accent(texte):\n",
    "    texte_nettoye = \"\"\n",
    "    # à compléter\n",
    "\n",
    "\n",
    "    return texte_nettoye\n",
    "\n",
    "sans_accent(\"En français, même non-accentué, un caractère à tête nue reste reste un caractère\")\n",
    "# 'En francais, meme non-accentue, un caractere a tete nue reste reste un caractere'"
   ]
  },
  {
   "cell_type": "markdown",
   "metadata": {},
   "source": [
    "---\n",
    "Lorsque nous souhaitons travailler plus particulièrement sur un ensemble de nombre, les `<elements>` peuvent alors être énumérés à partir d'un `<ensemble>` généré par la fonction native `range()`.  \n",
    "Cette fonction a besoin au minimum d'un argument (mais peut en accepter 3...).\n",
    "\n",
    "Tester les codes ci-dessous et repérer le rôle de chaque argument de `range()`:\n",
    "\n",
    "---"
   ]
  },
  {
   "cell_type": "code",
   "execution_count": null,
   "metadata": {},
   "outputs": [],
   "source": [
    "for n in range(10):\n",
    "    print(n)"
   ]
  },
  {
   "cell_type": "code",
   "execution_count": null,
   "metadata": {
    "scrolled": true
   },
   "outputs": [],
   "source": [
    "for n in range(5,10):\n",
    "    print(n)"
   ]
  },
  {
   "cell_type": "code",
   "execution_count": null,
   "metadata": {},
   "outputs": [],
   "source": [
    "for n in range(0,10,2):\n",
    "    print(n)"
   ]
  },
  {
   "cell_type": "markdown",
   "metadata": {},
   "source": [
    "---\n",
    "#### 4.  Ecrire un programme qui énumère tous les nombres multiple de 7 entre 0 et 100"
   ]
  },
  {
   "cell_type": "code",
   "execution_count": null,
   "metadata": {},
   "outputs": [],
   "source": [
    "for # à compléter\n",
    "    \n",
    "# 0\n",
    "# 7\n",
    "# 14\n",
    "# ...\n",
    "# 98"
   ]
  },
  {
   "cell_type": "markdown",
   "metadata": {},
   "source": [
    "---\n",
    "#### 5.  Ecrire un programme qui décompte tous les nombres impairs entre 1et 20."
   ]
  },
  {
   "cell_type": "code",
   "execution_count": null,
   "metadata": {},
   "outputs": [],
   "source": [
    "for # à compléter\n",
    "    \n",
    "# 19\n",
    "# 17\n",
    "# 15\n",
    "# ...\n",
    "# 3\n",
    "# 1"
   ]
  },
  {
   "cell_type": "markdown",
   "metadata": {},
   "source": [
    "---\n",
    "### <center>  Pour aller plus loin</center>\n",
    "Les itérables sont composés d'éléments distincts et donc dénombrables. Il existe une fonction permettant de demander la *longueur (**len**gth)* d'un ensemble soit finalement le nombre d'éléments qui le composent: `len()`.  \n",
    "En toute logique, `len(<ensemble>)` renvoie une valeur entière de type `int`."
   ]
  },
  {
   "cell_type": "markdown",
   "metadata": {},
   "source": [
    "#### 6.  Refaire l'exercice n°1 sans utiliser de structure `for`."
   ]
  },
  {
   "cell_type": "code",
   "execution_count": null,
   "metadata": {},
   "outputs": [],
   "source": [
    "def cacher(texte):\n",
    "    # à compléter\n",
    "    \n",
    "    \n",
    "print(cacher('password'))\n",
    "# ********"
   ]
  },
  {
   "cell_type": "markdown",
   "metadata": {},
   "source": [
    "---\n",
    "#### 7.  Les logins du lycée sont limités à 14 caractères minuscules non-accentués. Réaliser une fonction qui prend deux chaines en argument et renvoie un login du type `prenom.nom`. Si la limite de caractère doit être dépassée, c'est le prénom qui est raccourci (en lui conservant au minimum la premiere lettre)."
   ]
  },
  {
   "cell_type": "code",
   "execution_count": null,
   "metadata": {},
   "outputs": [],
   "source": [
    "def login(prenom,nom):\n",
    "    login = \"\"\n",
    "    # à compléter\n",
    "    \n",
    "    \n",
    "    return login, len(login)\n",
    "\n",
    "login(\"jean\",\"bach\") # 'jean.bach'\n",
    "login(\"jean-sebastien\",\"bach\") # 'jean-seba.bach'\n",
    "login(\"jean-sebastien\",\"bacheinklaviermeister\") # 'j.bacheinklavi'"
   ]
  },
  {
   "cell_type": "markdown",
   "metadata": {},
   "source": [
    "\n",
    "#### 8.  A partir du début de code ci-dessous, imbriquer deux structures d'itération pour parcourir une grille de bataille navale et afficher chaque case par ses coordonnées lettre / chiffre:\n",
    "\n",
    "![grille](https://s2.qwant.com/thumbr/0x380/e/9/b1e8959f78181d840b8a135b23bc1989ea7f0e00649e46f996ff27f0d0f4bf/1200px-Battleship_game_board.svg.png?u=https%3A%2F%2Fupload.wikimedia.org%2Fwikipedia%2Fcommons%2Fthumb%2F6%2F65%2FBattleship_game_board.svg%2F1200px-Battleship_game_board.svg.png&q=0&b=1&p=0&a=1)"
   ]
  },
  {
   "cell_type": "code",
   "execution_count": null,
   "metadata": {
    "scrolled": true
   },
   "outputs": [],
   "source": [
    "def bataille_navale():\n",
    "    # A 1\n",
    "    # A 2\n",
    "    # A 3\n",
    "    # ...\n",
    "    # B 1\n",
    "    # B 2\n",
    "    # ...\n",
    "    # J 9\n",
    "    # J 10\n",
    "    \n",
    "    lettres = \"ABCDEFGHIJ\"\n",
    "    # à compléter\n",
    "    \n",
    "    \n",
    "    \n",
    "        \n",
    "bataille_navale()"
   ]
  },
  {
   "cell_type": "markdown",
   "metadata": {},
   "source": [
    "---\n",
    "#### 9.  Ecrire une fonction affiche toutes les heures et minutes d'un réveil digital à l'aide de deux boucles itératives imbriquées"
   ]
  },
  {
   "cell_type": "code",
   "execution_count": null,
   "metadata": {},
   "outputs": [],
   "source": [
    "def reveil():\n",
    "    # à Compléter\n",
    "    \n",
    "    \n",
    "    \n",
    "    \n",
    "reveil()\n",
    "# 0 : 0\n",
    "# 0 : 1\n",
    "# 0 : 2\n",
    "# 0 : 3\n",
    "# ...\n",
    "# 23 : 58\n",
    "# 23 : 59"
   ]
  },
  {
   "cell_type": "markdown",
   "metadata": {},
   "source": [
    "---\n",
    "#### 10.  Ecrire une fonction affiche toutes les heures et minutes d'un réveil digital à l'aide d'une seule boucle itérative."
   ]
  },
  {
   "cell_type": "code",
   "execution_count": null,
   "metadata": {},
   "outputs": [],
   "source": [
    "def reveil():\n",
    "    # à Compléter\n",
    "    \n",
    "    \n",
    "        \n",
    "reveil()\n",
    "# 0 : 0\n",
    "# 0 : 1\n",
    "# 0 : 2\n",
    "# 0 : 3\n",
    "# ...\n",
    "# 23 : 58\n",
    "# 23 : 59"
   ]
  }
 ],
 "metadata": {
  "kernelspec": {
   "display_name": "Python 3",
   "language": "python",
   "name": "python3"
  },
  "language_info": {
   "codemirror_mode": {
    "name": "ipython",
    "version": 3
   },
   "file_extension": ".py",
   "mimetype": "text/x-python",
   "name": "python",
   "nbconvert_exporter": "python",
   "pygments_lexer": "ipython3",
   "version": "3.8.4"
  }
 },
 "nbformat": 4,
 "nbformat_minor": 4
}
